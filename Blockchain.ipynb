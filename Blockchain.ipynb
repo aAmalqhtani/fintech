{
  "nbformat": 4,
  "nbformat_minor": 0,
  "metadata": {
    "colab": {
      "name": "Untitled30.ipynb",
      "provenance": [],
      "authorship_tag": "ABX9TyOb38s4bX41LFtoXx6a0KmC"
    },
    "kernelspec": {
      "name": "python3",
      "display_name": "Python 3"
    },
    "language_info": {
      "name": "python"
    }
  },
  "cells": [
    {
      "cell_type": "code",
      "execution_count": 1,
      "metadata": {
        "id": "YzxkEMB42-zk"
      },
      "outputs": [],
      "source": [
        "import json\n",
        "import hashlib\n",
        "from hashlib import sha256\n",
        "import time"
      ]
    },
    {
      "cell_type": "code",
      "source": [
        "class Block:\n",
        "    def __init__(self, index, transactions, timestamp, previous_hash, nonce=0):\n",
        "        self.index = index\n",
        "        self.transactions = transactions\n",
        "        self.timestamp = timestamp\n",
        "        self.previous_hash = previous_hash\n",
        "        self.nonce = nonce\n",
        "\n",
        "    def compute_hash(self):\n",
        "        block_string = json.dumps(self.__dict__, sort_keys=True)\n",
        "        return sha256(block_string.encode()).hexdigest()"
      ],
      "metadata": {
        "id": "tHD1kyFs3ZZi"
      },
      "execution_count": 2,
      "outputs": []
    },
    {
      "cell_type": "code",
      "source": [
        "class Blockchain: \n",
        "    def __init__(self):\n",
        "        self.unconfirmed_transactions = []\n",
        "        self.chain = []\n",
        "        self.difficulty = 4\n",
        "        self.create_genesis_block()\n",
        " \n",
        "    def create_genesis_block(self):\n",
        "        genesis_block = Block(0, [], time.time(), \"0\")\n",
        "        genesis_block.hash = genesis_block.compute_hash()\n",
        "        self.chain.append(genesis_block)\n",
        "    @property\n",
        "    def last_block(self):\n",
        "        return self.chain[-1]\n",
        "\n",
        "    def proof_of_work(self, block):\n",
        "        block.nonce = 1\n",
        "        computed_hash = block.compute_hash()\n",
        "        while not computed_hash.startswith('0' * self.difficulty):\n",
        "            block.nonce += 1\n",
        "            computed_hash = block.compute_hash()\n",
        "        return computed_hash    \n",
        "\n",
        "    def add_block(self, block, proof):\n",
        "        previous_hash = self.last_block.hash\n",
        "        if previous_hash != block.previous_hash:\n",
        "            return False\n",
        "        if not self.is_valid_proof(block, proof):\n",
        "            return False\n",
        "        block.hash = proof\n",
        "        self.chain.append(block)\n",
        "        return True\n",
        " \n",
        "    def is_valid_proof(self, block, block_hash):\n",
        "        return (block_hash.startswith('0' * self.difficulty) and\n",
        "                block_hash == block.compute_hash())\n",
        "\n",
        "    def add_new_transaction(self, transaction):\n",
        "            self.unconfirmed_transactions.append(transaction)\n",
        " \n",
        "    def mine(self):\n",
        "        if not self.unconfirmed_transactions:\n",
        "            return False\n",
        " \n",
        "        last_block = self.last_block\n",
        " \n",
        "        new_block = Block(index=last_block.index + 1,\n",
        "                          transactions=self.unconfirmed_transactions,\n",
        "                          timestamp=time.time(),\n",
        "                          previous_hash=last_block.hash)\n",
        " \n",
        "        proof = self.proof_of_work(new_block)\n",
        "        self.add_block(new_block, proof)\n",
        "        self.unconfirmed_transactions = []\n",
        "        return new_block.index"
      ],
      "metadata": {
        "id": "GvKN2qmd3mO1"
      },
      "execution_count": 3,
      "outputs": []
    },
    {
      "cell_type": "code",
      "source": [
        "tx_1 = {\n",
        "   \"addr_from\": \"3J98t1WpEZ73CNmQviecrnyiWrnqRhWNLy\",\n",
        "   \"addr_to\": \"1BvBMSEYstWetqTFn5Au4m4GFg7xJaNVN2\",   \n",
        "   \"amount\": 99.00\n",
        "}"
      ],
      "metadata": {
        "id": "axBS5JBT7UQu"
      },
      "execution_count": 4,
      "outputs": []
    },
    {
      "cell_type": "code",
      "source": [
        "tx_2 = {\n",
        "   \"addr_from\": \"1J98t1WpEZ73CNmQviecrnyiWrnqRhWNLy\",\n",
        "   \"addr_to\": \"2BvBMSEYstWetqTFn5Au4m4GFg7xJaNVN2\",   \n",
        "   \"amount\": 199.00\n",
        "}"
      ],
      "metadata": {
        "id": "339kNMUTSqeY"
      },
      "execution_count": 5,
      "outputs": []
    },
    {
      "cell_type": "code",
      "source": [
        "Titans = Blockchain()\n",
        "while len(Titans.chain)<10:\n",
        "  Titans.add_new_transaction([tx_1, tx_2])\n",
        "  Titans.mine()\n",
        "  print(Titans.chain[-1].hash)\n",
        "  print(str(Titans.chain[-1].nonce))\n"
      ],
      "metadata": {
        "colab": {
          "base_uri": "https://localhost:8080/"
        },
        "id": "NO-_KrOPMiXl",
        "outputId": "44b37a38-7f21-4df3-a3a2-2dd487ecad90"
      },
      "execution_count": 6,
      "outputs": [
        {
          "output_type": "stream",
          "name": "stdout",
          "text": [
            "00001ead712395213810f99f094c208635c0337ffb91d6f6d252644457ea8cba\n",
            "3977\n",
            "000038d22c58915188f6637c49ba6b6e63842e5560aeab6210cbdf926dc6ffb1\n",
            "99951\n",
            "0000ccbdd1bbfd2565efb5110ee716719f9fb152d1053c3ce921cd0baddfbd90\n",
            "53344\n",
            "00008ca3adfa1762de78a7e8871780122354300345ca2d5d09827d1e6179893f\n",
            "55324\n",
            "000058a1a1684778f33620c34f95f1dc9e326ab20f71cfdf2a4632568c66a6cd\n",
            "83085\n",
            "00006b33af5126510852e87ca894a85837944d4ae8f0aaf5210082d2dbcd4048\n",
            "33276\n",
            "0000aa97ca4abc98b1060d533a9349104810df4f39debdfdacc5a7affa720672\n",
            "163652\n",
            "0000c04a89556a9c9061029945c7eeeb3890aa17591a791e85d63ec6656efa58\n",
            "199166\n",
            "0000d07af91fdec917320e1568394d89aca90bd4e9ddd00bd0dc87e632477566\n",
            "95123\n"
          ]
        }
      ]
    },
    {
      "cell_type": "code",
      "source": [
        ""
      ],
      "metadata": {
        "id": "BkGkH3WtNd3j"
      },
      "execution_count": 6,
      "outputs": []
    }
  ]
}
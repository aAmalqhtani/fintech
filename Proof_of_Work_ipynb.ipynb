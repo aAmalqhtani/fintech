{
  "nbformat": 4,
  "nbformat_minor": 0,
  "metadata": {
    "colab": {
      "name": "Proof_of_Work.ipynb.ipynb",
      "provenance": []
    },
    "kernelspec": {
      "display_name": "Python 3",
      "name": "python3"
    },
    "language_info": {
      "codemirror_mode": {
        "name": "ipython",
        "version": 3
      },
      "file_extension": ".py",
      "mimetype": "text/x-python",
      "name": "python",
      "nbconvert_exporter": "python",
      "pygments_lexer": "ipython3",
      "version": "3.9.8"
    }
  },
  "cells": [
    {
      "cell_type": "code",
      "metadata": {
        "id": "oQXTpo4K6uKL",
        "colab": {
          "base_uri": "https://localhost:8080/"
        },
        "outputId": "db0ef3aa-0c40-4f2d-d31d-9382d9098ec3"
      },
      "source": [
        "import hashlib # imports library with SHA-256 hashing algo\n",
        "import datetime # imports library to track time\n",
        "t1 = datetime.datetime.now() # start time\n",
        "nonce = 1 # Starts the nonce at 1\n",
        "solution = False\n",
        "while solution == False: # loop until true\n",
        "    ourhash = hashlib.sha256(str(nonce).encode()).hexdigest() # inputs nonce into hash function\n",
        "    if ourhash[:7] == '0000000': # look for hash with 7 proceeding zeros\n",
        "        solution =True # those who find the solution will have 'proved' they put in 'work'\n",
        "    nonce +=1 # increase nonce by 1 and try again\n",
        "t2 = datetime.datetime.now() # end time\n",
        "duration = t2 - t1 # time elapsed\n",
        "print (\"The hash is:\",ourhash)\n",
        "print (\"The nonce is:\",nonce)    \n",
        "print (\"Time elapsed:\",duration)"
      ],
      "execution_count": 1,
      "outputs": [
        {
          "output_type": "stream",
          "name": "stdout",
          "text": [
            "The hash is: 0000000399c6aea5ad0c709a9bc331a3ed6494702bd1d129d8c817a0257a1462\n",
            "The nonce is: 665783\n",
            "Time elapsed: 0:00:01.561104\n"
          ]
        }
      ]
    },
    {
      "cell_type": "code",
      "metadata": {
        "colab": {
          "base_uri": "https://localhost:8080/"
        },
        "id": "sSxgt1IqSo57",
        "outputId": "8756e9df-54ff-478c-f385-58c74e29dc42"
      },
      "source": [
        "import hashlib # imports library with SHA-256 hashing algo\n",
        "import datetime # imports library to track time\n",
        "t1 = datetime.datetime.now() # start time\n",
        "nonce = 1 # Starts the nonce at 1\n",
        "solution = False\n",
        "while solution == False: # loop until true\n",
        "    ourhash = hashlib.sha256(str(nonce).encode()).hexdigest() # inputs nonce into hash function\n",
        "    if ourhash[:8] == '00000000': # look for hash with 7 proceeding zeros\n",
        "        solution =True # those who find the solution will have 'proved' they put in 'work'\n",
        "    nonce +=1 # increase nonce by 1 and try again\n",
        "t2 = datetime.datetime.now() # end time\n",
        "duration = t2 - t1 # time elapsed\n",
        "print (\"The hash is:\",ourhash)\n",
        "print (\"The nonce is:\",nonce)    \n",
        "print (\"Time elapsed:\",duration)"
      ],
      "execution_count": 2,
      "outputs": [
        {
          "output_type": "stream",
          "name": "stdout",
          "text": [
            "The hash is: 00000000690ed426ccf17803ebe2bd0884bcd58a1bb5e7477ead3645f356e7a9\n",
            "The nonce is: 426479725\n",
            "Time elapsed: 0:10:10.973529\n"
          ]
        }
      ]
    }
  ]
}
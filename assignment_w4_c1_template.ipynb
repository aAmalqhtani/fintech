{
 "cells": [
  {
   "cell_type": "markdown",
   "metadata": {},
   "source": [
    "Week 4, Assignment C1:\n",
    "\n",
    "CAPM and Modern Portfolio Theory in Python\n",
    "\n",
    "In this notebook, we will study Modern Portfolio Theory in Python.\n",
    "Please complete the lines bellow where you see \"# TODO\"."
   ]
  },
  {
   "cell_type": "code",
   "execution_count": 1,
   "metadata": {},
   "outputs": [],
   "source": [
    "#Objective 1.\n",
    "#Use this cell to import Numpy (as np) and Pyplot (from Matplotlib as plt) packages.\n",
    "\n",
    "import numpy as np\n",
    "from matplotlib import pyplot as plt\n",
    "from cmath import sqrt"
   ]
  },
  {
   "cell_type": "code",
   "execution_count": 2,
   "metadata": {},
   "outputs": [],
   "source": [
    "#Objective 2.\n",
    "#Select a number of asset classes ( > 1 ) and a number of observations ( > 500 ).  Store your chosen values to the\n",
    "#two new variables \"no_of_asset_classes\" and \"no_of_observations\", respectively.\n",
    "\n",
    "\n",
    "no_of_asset_classes = 5  #stock numbers\n",
    "no_of_observations = 1000 #time"
   ]
  },
  {
   "cell_type": "code",
   "execution_count": 3,
   "metadata": {},
   "outputs": [
    {
     "data": {
      "text/plain": [
       "(5, 1000)"
      ]
     },
     "execution_count": 3,
     "metadata": {},
     "output_type": "execute_result"
    }
   ],
   "source": [
    "#to begin from a specific position\n",
    "np.random.seed(123)\n",
    "#Generates a Matrix (5x1000) no_of_asset_classes no_of_observations\n",
    "matrix_of_return_values = np.random.randn(no_of_asset_classes, no_of_observations)\n",
    "\n",
    "#Objective 3.\n",
    "#Select a number of test portfolios to generate ( > 1,000 < 20,000).  Store your chosen value to the new variable\n",
    "#\"no_of_portfolios\".  \n",
    "\n",
    "no_of_portfolios = 10000   #set the number of portfolios to test\n",
    "\n",
    "#print(matrix_of_return_values)\n",
    "matrix_of_return_values.shape"
   ]
  },
  {
   "cell_type": "code",
   "execution_count": 4,
   "metadata": {},
   "outputs": [],
   "source": [
    "#Objective 4.\n",
    "#Initialize four empty lists called \"collection_of_random_asset_weights\", \"portfolio_means\",\n",
    "#\"portfolio_standard_deviations\", and \"portfolio_sharpe_ratios\", respectively.\n",
    "\n",
    "#Creat four Empty lists to store the values\n",
    "collection_of_random_asset_weights = []\n",
    "portfolio_means = []\n",
    "portfolio_standard_deviations = []\n",
    "portfolio_sharpe_ratios = []"
   ]
  },
  {
   "cell_type": "code",
   "execution_count": 5,
   "metadata": {},
   "outputs": [],
   "source": [
    "#Objective 5.\n",
    "#Write a function called \"get_random_asset_weights\" that takes as input (Input.I) any number of asset classes\n",
    "#\"no_of_asset_classes\" and returns (Output.I) a Numpy vector (matrix) of weights (percentages) of length \"no_of_asset_classes\"\n",
    "#whose sum is one (1).\n",
    "\n",
    "#Creat a function\n",
    "def get_random_asset_weights(no_of_asset_classes):\n",
    "    random_asset_weights = np.random.rand(no_of_asset_classes) #random num of len (no_of_asset_classes)\n",
    "    random_asset_weights /= sum(random_asset_weights)  #make the random num add to one [total =random_asset_weights.sum()]\n",
    "    random_asset_weights = np.asmatrix(random_asset_weights)  #Convert to matrix\n",
    "    return random_asset_weights    #return as output\n",
    "    \n",
    "asset_weights=get_random_asset_weights(no_of_asset_classes)\n",
    "#print(asset_weights)"
   ]
  },
  {
   "cell_type": "code",
   "execution_count": 6,
   "metadata": {},
   "outputs": [],
   "source": [
    "#Objective 6.\n",
    "#Write a function called \"get_portfolio_statistics\" that takes as input (Input.I) a Numpy vector (matrix)\n",
    "#\"asset_weights\" of weights (percentages) whose sum is one (1) and (Input.II) a Numpy matrix of return values\n",
    "#\"matrix_of_return_values\" whose first axis length is the same as the length of the Numpy vector (matrix)\n",
    "#\"asset_weights\" and returns (Output.I) the mean \"portfolio_mean\", (Output.II) the standard deviation\n",
    "#\"portfolio_standard_deviation\", and (Output.III) the Sharpe ratio \"portfolio_sharpe_ratio\" of the portfolio of\n",
    "#assets with asset weights \"asset_weights\" and asset return values belonging to \"matrix_of_return_values\".\n",
    "\n",
    "def get_portfolio_statistics(asset_weights, matrix_of_return_values): #function and varibles\n",
    "    asset_means = np.asmatrix(np.mean(matrix_of_return_values, axis = 1))#means =  e.g.(1+3+5+7+9)/5=5\n",
    "    asset_covariances = np.asmatrix(np.cov(matrix_of_return_values))#covariance is a measure of the joint variability of two random var\n",
    "    portfolio_mean = asset_weights * asset_means.T #this is just the formula.       \n",
    "    portfolio_mean = portfolio_mean.item()\n",
    "    portfolio_standard_deviation =np.sqrt(asset_weights * asset_covariances * asset_weights.T)#this is just the formula.   \n",
    "    portfolio_standard_deviation = portfolio_standard_deviation.item()\n",
    "    portfolio_sharpe_ratio = portfolio_mean /portfolio_standard_deviation  #this is just the formula.\n",
    "    return portfolio_mean, portfolio_standard_deviation, portfolio_sharpe_ratio #outputs\n",
    "    \n",
    "#get_portfolio_statistics(asset_weights,matrix_of_return_values)"
   ]
  },
  {
   "cell_type": "code",
   "execution_count": 7,
   "metadata": {},
   "outputs": [],
   "source": [
    "#test onlyyyyyyyyyyyyyyyyyyyyy\n",
    "\n",
    "#asset_means = np.asmatrix(np.mean(matrix_of_return_values, axis = 1))\n",
    "#asset_covariances = np.asmatrix(np.cov(matrix_of_return_values))\n",
    "#portfolio_mean = asset_weights * asset_means.T        #asset_means.sum()/no_of_asset_classes\n",
    "#portfolio_mean = portfolio_mean.item()\n",
    "#portfolio_standard_deviation =np.sqrt(asset_weights * asset_covariances * asset_weights.T)  #abs(sqrt(portfolio_mean-(portfolio_mean**2)))\n",
    "#portfolio_standard_deviation = portfolio_standard_deviation.item()\n",
    "#portfolio_sharpe_ratio = portfolio_mean /portfolio_standard_deviation\n",
    "#return portfolio_mean, portfolio_standard_deviation, portfolio_sharpe_ratio\n",
    "#print(asset_covariances)\n",
    "#print(portfolio_mean)\n",
    "#print(asset_means)\n",
    "#print(portfolio_standard_deviation)\n",
    "#print(portfolio_standard_deviation5)\n",
    "#type (portfolio_standard_deviation5)\n",
    "#print (portfolio_mean)\n",
    "#print(portfolio_standard_deviation)\n",
    "#print(portfolio_sharpe_ratio)"
   ]
  },
  {
   "cell_type": "code",
   "execution_count": 8,
   "metadata": {},
   "outputs": [],
   "source": [
    "#Objective 7.\n",
    "#Using the functions constructed in Objectives 5 and 6, write a loop that, on each iteration, determines a\n",
    "#Numpy vector (matrix) of weights (percentages) \"random_asset_weights\" of length \"no_of_asset_classes\" whose sum \n",
    "#is one (1) and then appends to each of the lists \"collection_of_random_asset_weights\", \"portfolio_means\",\n",
    "#\"portfolio_standard_deviations\", and \"portfolio_sharpe_ratios\" the Numpy vector (matrix) of weights (percentages)\n",
    "#\"random_asset_weights\"; and the mean \"portfolio_mean\", the standard deviation \"portfolio_standard_deviation\", and\n",
    "#the Sharpe ratio \"portfolio_sharpe_ratio\" of the portfolio of assets with asset weights \"asset_weights\" and asset \n",
    "#return values belonging to \"matrix_of_return_values\", respectively.\n",
    "\n",
    "while len(collection_of_random_asset_weights) < no_of_portfolios:\n",
    "    random_asset_weights = get_random_asset_weights(no_of_asset_classes)\n",
    "    collection_of_random_asset_weights.append(random_asset_weights) \n",
    "    A,B,C=get_portfolio_statistics(random_asset_weights,matrix_of_return_values)\n",
    "    portfolio_means.append(A)\n",
    "    portfolio_standard_deviations.append(B)\n",
    "    portfolio_sharpe_ratios.append(C)\n",
    "    \n",
    "    #another way\n",
    "\n",
    "    #portfolio_means.append(get_portfolio_statistics(random_asset_weights,matrix_of_return_values)[0])\n",
    "    #portfolio_standard_deviations.append(get_portfolio_statistics(random_asset_weights,matrix_of_return_values)[1])\n",
    "    #portfolio_sharpe_ratios.append(get_portfolio_statistics(random_asset_weights,matrix_of_return_values)[2])\n",
    "#print(portfolio_mean)"
   ]
  },
  {
   "cell_type": "code",
   "execution_count": 9,
   "metadata": {},
   "outputs": [
    {
     "data": {
      "image/png": "[encoded data removed]",
      "text/plain": [
       "<Figure size 432x288 with 1 Axes>"
      ]
     },
     "metadata": {
      "needs_background": "light"
     },
     "output_type": "display_data"
    }
   ],
   "source": [
    "#Objective 8.\n",
    "#Make a scatterplot of the corresponding values (x,y) = (portfolio_standard_deviation, portfolio_mean) from the\n",
    "#lists \"portfolio_standard_deviations\" and \"portfolio_means\", respectively.\n",
    "\n",
    "plt.plot(portfolio_standard_deviations, portfolio_means, 'o', markersize = 3, color = 'lightskyblue') \n",
    "plt.show()\n"
   ]
  },
  {
   "cell_type": "code",
   "execution_count": 11,
   "metadata": {},
   "outputs": [
    {
     "name": "stdout",
     "output_type": "stream",
     "text": [
      "7397\n"
     ]
    }
   ],
   "source": [
    "#Objective 9.\n",
    "#Find the list index of the portfolio of highest Sharpe ratio.\n",
    "\n",
    "index = portfolio_sharpe_ratios.index(max(portfolio_sharpe_ratios))# find the index position \n",
    "print(index)"
   ]
  },
  {
   "cell_type": "code",
   "execution_count": 12,
   "metadata": {},
   "outputs": [
    {
     "name": "stdout",
     "output_type": "stream",
     "text": [
      "[[0.01491691 0.11662    0.01634701 0.45335809 0.39875799]]\n",
      "0.0882955082857613\n"
     ]
    }
   ],
   "source": [
    "##Objective 10.\n",
    "#Print the asset weights and Sharpe ratio of the portfolio of highest Sharpe ratio, using index above.\n",
    "\n",
    "print(collection_of_random_asset_weights[index])\n",
    "print(portfolio_sharpe_ratios[index])"
   ]
  },
  {
   "cell_type": "code",
   "execution_count": 13,
   "metadata": {},
   "outputs": [
    {
     "data": {
      "image/png": "[encoded data removed]",
      "text/plain": [
       "<Figure size 432x288 with 1 Axes>"
      ]
     },
     "metadata": {
      "needs_background": "light"
     },
     "output_type": "display_data"
    }
   ],
   "source": [
    "#Objective 11.\n",
    "#Add the Capital Market Line to your scatterplot from Objective 8.\n",
    "\n",
    "x = np.linspace(0, max(portfolio_standard_deviations), 10000)\n",
    "y = portfolio_sharpe_ratios[index] * x\n",
    "plt.plot(portfolio_standard_deviations,portfolio_means , 'o', markersize = 3, color = 'lightskyblue')\n",
    "plt.plot(x, y, '-', linewidth = 2, color = 'green')\n",
    "plt.plot(portfolio_standard_deviations[index],portfolio_means[index],color='r',marker='o')\n",
    "plt.show() #CML"
   ]
  },
  {
   "cell_type": "code",
   "execution_count": 14,
   "metadata": {},
   "outputs": [],
   "source": [
    "#Objective 12.\n",
    "#All of the work in this notebook assumes a risk-free rate of zero (0.00).  How could this work be modified to\n",
    "#accommodate a nonzero risk-free rate?  Explain."
   ]
  },
  {
   "cell_type": "markdown",
   "metadata": {},
   "source": [
    "The Sharpe Ratio is gonna change, adding the risk vactor to the formula, And the Capital Market Line will start above the 0 y axis"
   ]
  }
 ],
 "metadata": {
  "interpreter": {
   "hash": "b3ba2566441a7c06988d0923437866b63cedc61552a5af99d1f4fb67d367b25f"
  },
  "kernelspec": {
   "display_name": "Python 3.8.8 64-bit ('base': conda)",
   "name": "python3"
  },
  "language_info": {
   "codemirror_mode": {
    "name": "ipython",
    "version": 3
   },
   "file_extension": ".py",
   "mimetype": "text/x-python",
   "name": "python",
   "nbconvert_exporter": "python",
   "pygments_lexer": "ipython3",
   "version": "3.8.8"
  }
 },
 "nbformat": 4,
 "nbformat_minor": 4
}
